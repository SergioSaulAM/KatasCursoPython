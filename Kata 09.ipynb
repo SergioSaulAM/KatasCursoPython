{
 "cells": [
  {
   "cell_type": "markdown",
   "metadata": {},
   "source": [
    "# Kata 09"
   ]
  },
  {
   "cell_type": "markdown",
   "metadata": {},
   "source": [
    "### Ejercicio 01"
   ]
  },
  {
   "cell_type": "code",
   "execution_count": 17,
   "metadata": {},
   "outputs": [],
   "source": [
    "def combustible (combus1, combus2, combus3):\n",
    "    combusTot = combus1 + combus2 + combus3\n",
    "    return combusTot"
   ]
  },
  {
   "cell_type": "code",
   "execution_count": 18,
   "metadata": {},
   "outputs": [
    {
     "name": "stdout",
     "output_type": "stream",
     "text": [
      "60\n"
     ]
    }
   ],
   "source": [
    "print(combustible(30, 20, 10))"
   ]
  },
  {
   "cell_type": "code",
   "execution_count": 25,
   "metadata": {},
   "outputs": [],
   "source": [
    "def combustible (combus1, combus2, combus3):\n",
    "    combusTot = combus1 + combus2 + combus3\n",
    "    avgCombus = promCombus(combusTot)\n",
    "    return f\"\"\"\n",
    "        Combustible 01: {combus1}\n",
    "        Combustible 02: {combus2}\n",
    "        Combustible 03: {combus3}\n",
    "        Promedio combustible: {avgCombus}\n",
    "    \"\"\"\n",
    "\n",
    "def promCombus (totCombus):\n",
    "    combusProm = totCombus / 3\n",
    "    return combusProm"
   ]
  },
  {
   "cell_type": "code",
   "execution_count": 26,
   "metadata": {},
   "outputs": [
    {
     "name": "stdout",
     "output_type": "stream",
     "text": [
      "\n",
      "        Combustible 01: 30\n",
      "        Combustible 02: 20\n",
      "        Combustible 03: 10\n",
      "        Promedio combustible: 20.0\n",
      "    \n"
     ]
    }
   ],
   "source": [
    "print(combustible(30, 20, 10))"
   ]
  },
  {
   "cell_type": "markdown",
   "metadata": {},
   "source": [
    "### Ejercicio 02"
   ]
  },
  {
   "cell_type": "code",
   "execution_count": 32,
   "metadata": {},
   "outputs": [],
   "source": [
    "def informeMision(**fuel_reservoirs):\n",
    "    print('REPORTE')\n",
    "    for label, value in fuel_reservoirs.items():\n",
    "        print(f\"{label}: {value}\")\n",
    "\n",
    "\n"
   ]
  },
  {
   "cell_type": "code",
   "execution_count": 33,
   "metadata": {},
   "outputs": [
    {
     "name": "stdout",
     "output_type": "stream",
     "text": [
      "REPORTE\n",
      "hora: 13:00\n",
      "tiempo_vuelo: 13\n"
     ]
    }
   ],
   "source": [
    "informeMision(hora = '13:00', tiempo_vuelo = 13)"
   ]
  }
 ],
 "metadata": {
  "interpreter": {
   "hash": "b89b5cfaba6639976dc87ff2fec6d58faec662063367e2c229c520fe71072417"
  },
  "kernelspec": {
   "display_name": "Python 3.10.2 64-bit",
   "language": "python",
   "name": "python3"
  },
  "language_info": {
   "codemirror_mode": {
    "name": "ipython",
    "version": 3
   },
   "file_extension": ".py",
   "mimetype": "text/x-python",
   "name": "python",
   "nbconvert_exporter": "python",
   "pygments_lexer": "ipython3",
   "version": "3.10.2"
  },
  "orig_nbformat": 4
 },
 "nbformat": 4,
 "nbformat_minor": 2
}
