{
 "cells": [
  {
   "cell_type": "markdown",
   "metadata": {},
   "source": [
    "# Kata 05"
   ]
  },
  {
   "cell_type": "markdown",
   "metadata": {},
   "source": [
    "### Distancia entre planetas"
   ]
  },
  {
   "cell_type": "code",
   "execution_count": 5,
   "metadata": {},
   "outputs": [
    {
     "name": "stdout",
     "output_type": "stream",
     "text": [
      "628949330 km\n",
      "390577533.93 millas\n"
     ]
    }
   ],
   "source": [
    "distanciaTierra = 149597870\n",
    "distanciaJupiter = 778547200\n",
    "\n",
    "totalDistancia = (abs(distanciaTierra - distanciaJupiter))*0.621\n",
    "\n",
    "print(f'{abs(distanciaTierra - distanciaJupiter)} km')\n",
    "print(f'{totalDistancia} millas')"
   ]
  },
  {
   "cell_type": "markdown",
   "metadata": {},
   "source": [
    "### Convertir cadenas en números y uso de valor absoluto"
   ]
  },
  {
   "cell_type": "code",
   "execution_count": 6,
   "metadata": {},
   "outputs": [
    {
     "name": "stdout",
     "output_type": "stream",
     "text": [
      "91700000 km\n",
      "56945700.0 millas\n"
     ]
    }
   ],
   "source": [
    "distancia1 = int(input(\"Ingrese la distancia del Sol al Planeta 1 en km: \"))\n",
    "distancia2 = int(input(\"Ingrese la distancia del Sol al Planeta 2 en km: \"))\n",
    "\n",
    "distanciaTotal = abs(distancia1 - distancia2)\n",
    "\n",
    "print(f\"{distanciaTotal} km\")\n",
    "print(f\"{distanciaTotal * 0.621} millas\")"
   ]
  }
 ],
 "metadata": {
  "interpreter": {
   "hash": "b89b5cfaba6639976dc87ff2fec6d58faec662063367e2c229c520fe71072417"
  },
  "kernelspec": {
   "display_name": "Python 3.10.2 64-bit",
   "language": "python",
   "name": "python3"
  },
  "language_info": {
   "codemirror_mode": {
    "name": "ipython",
    "version": 3
   },
   "file_extension": ".py",
   "mimetype": "text/x-python",
   "name": "python",
   "nbconvert_exporter": "python",
   "pygments_lexer": "ipython3",
   "version": "3.10.2"
  },
  "orig_nbformat": 4
 },
 "nbformat": 4,
 "nbformat_minor": 2
}
