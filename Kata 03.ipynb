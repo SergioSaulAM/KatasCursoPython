{
 "cells": [
  {
   "cell_type": "markdown",
   "metadata": {},
   "source": [
    "# Kata 03"
   ]
  },
  {
   "cell_type": "markdown",
   "metadata": {},
   "source": [
    "### Advertencia asteroide 1"
   ]
  },
  {
   "cell_type": "code",
   "execution_count": null,
   "metadata": {},
   "outputs": [],
   "source": [
    "velocidadAsteroide = 49\n",
    "\n",
    "if velocidadAsteroide > 25:\n",
    "    print(\"¡¡Se acerca un asteroide!!\")\n",
    "else:\n",
    "    print(\"Sigue con tu día\")"
   ]
  },
  {
   "cell_type": "markdown",
   "metadata": {},
   "source": [
    "### Advertencia asteroide 2"
   ]
  },
  {
   "cell_type": "code",
   "execution_count": null,
   "metadata": {},
   "outputs": [],
   "source": [
    "velocidadAsteroide = 49\n",
    "\n",
    "if velocidadAsteroide >= 20:\n",
    "    print(\"¡¡Puedes ver un rayo de luz en el cielo!!\")\n",
    "else:\n",
    "    print(\"No es necesario que voltees al cielo, sigue con tu dia :)\")"
   ]
  },
  {
   "cell_type": "markdown",
   "metadata": {},
   "source": [
    "### Advertencia asteroide 3"
   ]
  },
  {
   "cell_type": "code",
   "execution_count": null,
   "metadata": {},
   "outputs": [],
   "source": [
    "tamañoAsteroide = int(input(\"Ingrese la dimensión del asteroide\"))\n",
    "velocidadAsteroide = int(input(\"Ingrese la velocidad del asteroide\"))\n",
    "\n",
    "\n",
    "if tamañoAsteroide > 25 and tamañoAsteroide < 1000:\n",
    "    print(\"¡¡Busca refugio!! Un asteroide impactará la Tierra y causará muchos daños\")\n",
    "    if velocidadAsteroide >= 20:\n",
    "        print(\"Podrás ver el rayo de luz del asteroide\")\n",
    "        if velocidadAsteroide > 25:\n",
    "            print(\"¡¡Extinción global!!\")\n",
    "        else:\n",
    "            print(\"¡¡Busca refugio!!\")\n",
    "    else:\n",
    "        print(\"No podrás ver el rayo de luz\")\n",
    "else:\n",
    "    if velocidadAsteroide >= 20:\n",
    "        print(\"Podrás ver el rayo de luz del asteroide\")\n",
    "        if velocidadAsteroide > 25:\n",
    "            print(\"¡¡Daños severos al planeta!!\")\n",
    "        else:\n",
    "            print(\"¡¡Prevee un impacto inminente!!\")\n",
    "    else:\n",
    "        print(\"No hay nada que ver\")\n",
    "    print(\"Continua con tu día :)\")"
   ]
  }
 ],
 "metadata": {
  "interpreter": {
   "hash": "b89b5cfaba6639976dc87ff2fec6d58faec662063367e2c229c520fe71072417"
  },
  "kernelspec": {
   "display_name": "Python 3.10.2 64-bit",
   "language": "python",
   "name": "python3"
  },
  "language_info": {
   "codemirror_mode": {
    "name": "ipython",
    "version": 3
   },
   "file_extension": ".py",
   "mimetype": "text/x-python",
   "name": "python",
   "nbconvert_exporter": "python",
   "pygments_lexer": "ipython3",
   "version": "3.10.2"
  },
  "orig_nbformat": 4
 },
 "nbformat": 4,
 "nbformat_minor": 2
}
